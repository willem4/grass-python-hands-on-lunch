{
 "cells": [
  {
   "cell_type": "markdown",
   "metadata": {},
   "source": [
    "# Exercise 2\n",
    "\n",
    "\n",
    "Add a value from a raster to a points shape.\n",
    "\n",
    "Input files: \n",
    "* output/vector/bandijk.shp  (see Exercise 1)\n",
    "* input/vector/model_extent.shp\n",
    "* input/raster/ahn3/m_40cz2.tif\n"
   ]
  },
  {
   "cell_type": "code",
   "execution_count": null,
   "metadata": {},
   "outputs": [],
   "source": [
    "import os\n",
    "import sys\n",
    "import subprocess\n",
    "\n",
    "# define GRASS Database\n",
    "# add your path to grassdata (GRASS GIS database) directory\n",
    "# gisdb = os.path.join(os.path.expanduser(\"~\"), \"grassdata\")\n",
    "# the following path is the default path on MS Windows\n",
    "gisdb = os.path.join(os.path.expanduser(\"~\"), \"Documents/grassdata\")\n",
    "gisdb = gisdb.replace(\"C:\\\\Users\\\\\",\"D:\\\\\")\n",
    "\n",
    "# specify (existing) Location and Mapset\n",
    "location = \"RD_new\"\n",
    "mapset = \"mapset1\"\n",
    "\n",
    "# path to the GRASS GIS launch script\n",
    "# we assume that the GRASS GIS start script is available and on PATH\n",
    "# query GRASS itself for its GISBASE\n",
    "# (with fixes for specific platforms)\n",
    "# needs to be edited by the user\n",
    "grass7bin = 'grass72'\n",
    "if sys.platform.startswith('win'):\n",
    "    # MS Windows\n",
    "    grass7bin = r'grass72.bat'\n",
    "    # uncomment when using standalone WinGRASS installer\n",
    "    # grass7bin = r'C:\\Program Files (x86)\\GRASS GIS 7.2.0\\grass72.bat'\n",
    "    # this can be avoided if GRASS executable is added to PATH\n",
    "elif sys.platform == 'darwin':\n",
    "    # Mac OS X\n",
    "    # TODO: this have to be checked, maybe unix way is good enough\n",
    "    grass7bin = '/Applications/GRASS/GRASS-7.2.app/'\n",
    "\n",
    "# query GRASS GIS itself for its GISBASE\n",
    "startcmd = [grass7bin, '--config', 'path']\n",
    "try:\n",
    "    p = subprocess.Popen(startcmd, shell=False,\n",
    "                         stdout=subprocess.PIPE, stderr=subprocess.PIPE)\n",
    "    out, err = p.communicate()\n",
    "except OSError as error:\n",
    "    sys.exit(\"ERROR: Cannot find GRASS GIS start script\"\n",
    "             \" {cmd}: {error}\".format(cmd=startcmd[0], error=error))\n",
    "if p.returncode != 0:\n",
    "    sys.exit(\"ERROR: Issues running GRASS GIS start script\"\n",
    "             \" {cmd}: {error}\"\n",
    "             .format(cmd=' '.join(startcmd), error=err))\n",
    "gisbase = out.strip(os.linesep)\n",
    "\n",
    "# set GISBASE environment variable\n",
    "os.environ['GISBASE'] = gisbase\n",
    "\n",
    "# define GRASS-Python environment\n",
    "grass_pydir = os.path.join(gisbase, \"etc\", \"python\")\n",
    "sys.path.append(grass_pydir)\n",
    "\n",
    "# import (some) GRASS Python bindings\n",
    "import grass.script as gscript\n",
    "import grass.script.setup as gsetup\n",
    "\n",
    "# launch session\n",
    "rcfile = gsetup.init(gisbase, gisdb, location, mapset)\n",
    "\n",
    "# example calls\n",
    "gscript.message('Current GRASS GIS 7 environment:')\n",
    "print gscript.gisenv()"
   ]
  },
  {
   "cell_type": "code",
   "execution_count": null,
   "metadata": {},
   "outputs": [],
   "source": [
    "# 1. Load model extent\n",
    "# (hint) https://grass.osgeo.org/grass72/manuals/v.in.ogr.html\n",
    "gscript.run_command('g.remove', type = \"vector\", name = 'extent', flags=\"f\", quiet=True)\n",
    "gscript.run_command('v.in.ogr', input = 'input/vector/model_extent.shp', output = \"extent\", quiet=True)"
   ]
  },
  {
   "cell_type": "code",
   "execution_count": null,
   "metadata": {},
   "outputs": [],
   "source": [
    "# 2. Set GRASS region\n",
    "# (hint) https://grass.osgeo.org/grass72/manuals/g.region.html\n",
    "gscript.run_command('g.region', vector = \"extent\", res=1)\n"
   ]
  },
  {
   "cell_type": "code",
   "execution_count": null,
   "metadata": {},
   "outputs": [],
   "source": [
    "# 3. Load raster \n",
    "gscript.run_command('g.remove', type = \"raster\", name = 'ahn3', flags=\"f\", quiet=True)\n",
    "gscript.run_command('r.in.gdal', input = 'input/raster/ahn3/m_40cz2.tif', output = \"ahn3\", quiet=True)"
   ]
  },
  {
   "cell_type": "code",
   "execution_count": null,
   "metadata": {},
   "outputs": [],
   "source": [
    "# 4. Load points shape\n",
    "gscript.run_command('g.remove', type = \"vector\", name = 'bandijk_10', flags=\"f\", quiet=True)\n",
    "gscript.run_command('v.in.ogr', input = 'output/bandijk_10.shp', output = \"bandijk_10\", quiet=True)"
   ]
  },
  {
   "cell_type": "code",
   "execution_count": null,
   "metadata": {},
   "outputs": [],
   "source": [
    "# 5. Make a copy of the vector data\n",
    "gscript.run_command('g.copy', vect='bandijk_10,bandijk_10_height')"
   ]
  },
  {
   "cell_type": "code",
   "execution_count": null,
   "metadata": {},
   "outputs": [],
   "source": [
    "# 6. Add column to the points to store the height\n",
    "# see https://grass.osgeo.org/grass72/manuals/v.db.addcolumn.html\n",
    "gscript.run_command('v.db.addcolumn', map='bandijk_10_height', columns=\"height double precision\")"
   ]
  },
  {
   "cell_type": "code",
   "execution_count": null,
   "metadata": {},
   "outputs": [],
   "source": [
    "# 7. Query raster by points and store the height\n",
    "# see https://grass.osgeo.org/grass72/manuals/v.what.rast.html\n",
    "gscript.run_command('v.what.rast',map='bandijk_10_height',raster='ahn3', column='height')"
   ]
  },
  {
   "cell_type": "code",
   "execution_count": null,
   "metadata": {},
   "outputs": [],
   "source": [
    "# 8. Add geometry to database\n",
    "gscript.run_command('v.info', map='bandijk_10_height', flags=\"c\")\n",
    "gscript.run_command('v.db.addcolumn', map='bandijk_10_height', columns=\"x double precision, y double precision\")\n",
    "gscript.run_command('v.to.db', map='bandijk_10_height', option='coor', col='x,y')"
   ]
  },
  {
   "cell_type": "code",
   "execution_count": null,
   "metadata": {},
   "outputs": [],
   "source": [
    "# 9. Write to xyz\n",
    "outputdir = 'output'\n",
    "gscript.run_command('v.db.select',map='bandijk_10_height', column='x,y,height', \n",
    "                    file=os.path.join(outputdir,'bandijk_10_height.xyz'), separator='space', flags=\"c\", overwrite=True) "
   ]
  },
  {
   "cell_type": "code",
   "execution_count": null,
   "metadata": {},
   "outputs": [],
   "source": [
    "# Remove data (if required)\n",
    "# gscript.run_command('g.remove', type = \"vector\", name = 'extent', flags=\"f\", quiet=True)\n",
    "\n",
    "#for vect in gscript.list_strings(type='vector'):\n",
    "#    gscript.run_command('g.remove', type = \"vector\", name = vect, flags=\"f\", quiet=True)\n",
    "#    \n",
    "#for rast in gscript.list_strings(type='raster'):\n",
    "#    gscript.run_command('g.remove', type = \"raster\", name = vect, flags=\"f\", quiet=True)"
   ]
  },
  {
   "cell_type": "code",
   "execution_count": null,
   "metadata": {},
   "outputs": [],
   "source": [
    "# Delete the session file\n",
    "os.remove(rcfile)"
   ]
  }
 ],
 "metadata": {
  "kernelspec": {
   "display_name": "Python 2",
   "language": "python",
   "name": "python2"
  },
  "language_info": {
   "codemirror_mode": {
    "name": "ipython",
    "version": 2
   },
   "file_extension": ".py",
   "mimetype": "text/x-python",
   "name": "python",
   "nbconvert_exporter": "python",
   "pygments_lexer": "ipython2",
   "version": "2.7.14"
  }
 },
 "nbformat": 4,
 "nbformat_minor": 2
}
