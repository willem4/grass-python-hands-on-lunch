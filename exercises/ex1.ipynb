{
 "cells": [
  {
   "cell_type": "markdown",
   "metadata": {},
   "source": [
    "# Exercise 1\n",
    "\n",
    "\n",
    "Create a points shape with points every 10 m along a line.\n",
    "\n",
    "Input files: \n",
    "* input/vector/bandijk.shp\n",
    "* input/vector/model_extent.shp"
   ]
  },
  {
   "cell_type": "code",
   "execution_count": null,
   "metadata": {},
   "outputs": [],
   "source": [
    "import os\n",
    "import sys\n",
    "import subprocess\n",
    "\n",
    "# define GRASS Database\n",
    "# add your path to grassdata (GRASS GIS database) directory\n",
    "# gisdb = os.path.join(os.path.expanduser(\"~\"), \"grassdata\")\n",
    "# the following path is the default path on MS Windows\n",
    "gisdb = os.path.join(os.path.expanduser(\"~\"), \"Documents/grassdata\")\n",
    "gisdb = gisdb.replace(\"C:\\\\Users\\\\\",\"D:\\\\\")\n",
    "\n",
    "# specify (existing) Location and Mapset\n",
    "location = \"RD_new\"\n",
    "mapset = \"mapset1\"\n",
    "\n",
    "# path to the GRASS GIS launch script\n",
    "# we assume that the GRASS GIS start script is available and on PATH\n",
    "# query GRASS itself for its GISBASE\n",
    "# (with fixes for specific platforms)\n",
    "# needs to be edited by the user\n",
    "grass7bin = 'grass72'\n",
    "if sys.platform.startswith('win'):\n",
    "    # MS Windows\n",
    "    grass7bin = r'grass72.bat'\n",
    "    # uncomment when using standalone WinGRASS installer\n",
    "    # grass7bin = r'C:\\Program Files (x86)\\GRASS GIS 7.2.0\\grass72.bat'\n",
    "    # this can be avoided if GRASS executable is added to PATH\n",
    "elif sys.platform == 'darwin':\n",
    "    # Mac OS X\n",
    "    # TODO: this have to be checked, maybe unix way is good enough\n",
    "    grass7bin = '/Applications/GRASS/GRASS-7.2.app/'\n",
    "\n",
    "# query GRASS GIS itself for its GISBASE\n",
    "startcmd = [grass7bin, '--config', 'path']\n",
    "try:\n",
    "    p = subprocess.Popen(startcmd, shell=False,\n",
    "                         stdout=subprocess.PIPE, stderr=subprocess.PIPE)\n",
    "    out, err = p.communicate()\n",
    "except OSError as error:\n",
    "    sys.exit(\"ERROR: Cannot find GRASS GIS start script\"\n",
    "             \" {cmd}: {error}\".format(cmd=startcmd[0], error=error))\n",
    "if p.returncode != 0:\n",
    "    sys.exit(\"ERROR: Issues running GRASS GIS start script\"\n",
    "             \" {cmd}: {error}\"\n",
    "             .format(cmd=' '.join(startcmd), error=err))\n",
    "gisbase = out.strip(os.linesep)\n",
    "\n",
    "# set GISBASE environment variable\n",
    "os.environ['GISBASE'] = gisbase\n",
    "\n",
    "# define GRASS-Python environment\n",
    "grass_pydir = os.path.join(gisbase, \"etc\", \"python\")\n",
    "sys.path.append(grass_pydir)\n",
    "\n",
    "# import (some) GRASS Python bindings\n",
    "import grass.script as gscript\n",
    "import grass.script.setup as gsetup\n",
    "\n",
    "# launch session\n",
    "rcfile = gsetup.init(gisbase, gisdb, location, mapset)\n",
    "\n",
    "# example calls\n",
    "gscript.message('Current GRASS GIS 7 environment:')\n",
    "print gscript.gisenv()"
   ]
  },
  {
   "cell_type": "code",
   "execution_count": null,
   "metadata": {},
   "outputs": [],
   "source": [
    "# 1. Load model extent\n",
    "# (hint) https://grass.osgeo.org/grass72/manuals/v.in.ogr.html\n",
    "gscript.run_command('g.remove', type = \"vector\", name = 'extent', flags=\"f\", quiet=True)\n",
    "gscript.run_command('v.in.ogr', input = 'input/vector/model_extent.shp', output = \"extent\", quiet=True)"
   ]
  },
  {
   "cell_type": "code",
   "execution_count": null,
   "metadata": {},
   "outputs": [],
   "source": [
    "# 2. Set GRASS region\n",
    "# (hint) https://grass.osgeo.org/grass72/manuals/g.region.html\n",
    "gscript.run_command('g.region', vector = \"extent\", res=5)\n"
   ]
  },
  {
   "cell_type": "code",
   "execution_count": null,
   "metadata": {},
   "outputs": [],
   "source": [
    "# 3. Load line vector into GRASS map\n",
    "gscript.run_command('g.remove', type = \"vector\", name = 'bandijk', flags=\"f\", quiet=True)\n",
    "gscript.run_command('v.in.ogr', input = 'input/vector/bandijk.shp', output = \"bandijk\", quiet=True)\n"
   ]
  },
  {
   "cell_type": "code",
   "execution_count": null,
   "metadata": {},
   "outputs": [],
   "source": [
    "# 4. Create a points shape with points every 10 m\n",
    "# (hint) https://grass.osgeo.org/grass72/manuals/v.to.points.html\n",
    "\n",
    "gscript.run_command('g.remove', type = \"vector\", name = 'bandijk_10', flags=\"f\", quiet=True)\n",
    "gscript.run_command('v.to.points', input = 'bandijk', dmax=10, output = \"bandijk_10\", flags=\"i\", quiet=True)\n"
   ]
  },
  {
   "cell_type": "code",
   "execution_count": null,
   "metadata": {},
   "outputs": [],
   "source": [
    "# 5. Save to shapefile\n",
    "# (hint) https://grass.osgeo.org/grass72/manuals/v.out.ogr.html\n",
    "outputdir = 'output'\n",
    "if not os.path.exists(outputdir):\n",
    "    os.mkdir(outputdir)\n",
    "gscript.run_command('v.out.ogr', \n",
    "                    input = \"bandijk_10\", \n",
    "                    output = os.path.join(outputdir,'bandijk_10.shp'), \n",
    "                    overwrite=True, quiet=True)"
   ]
  },
  {
   "cell_type": "code",
   "execution_count": null,
   "metadata": {},
   "outputs": [],
   "source": [
    "# Remove data (if required)\n",
    "# gscript.run_command('g.remove', type = \"vector\", name = 'extent', flags=\"f\", quiet=True)\n",
    "\n",
    "#for vect in gscript.list_strings(type='vector'):\n",
    "#    gscript.run_command('g.remove', type = \"vector\", name = vect, flags=\"f\", quiet=True)\n",
    "#    \n",
    "#for rast in gscript.list_strings(type='raster'):\n",
    "#    gscript.run_command('g.remove', type = \"raster\", name = vect, flags=\"f\", quiet=True)"
   ]
  },
  {
   "cell_type": "code",
   "execution_count": null,
   "metadata": {},
   "outputs": [],
   "source": [
    "# Delete the session file\n",
    "os.remove(rcfile)"
   ]
  }
 ],
 "metadata": {
  "kernelspec": {
   "display_name": "Python 2",
   "language": "python",
   "name": "python2"
  },
  "language_info": {
   "codemirror_mode": {
    "name": "ipython",
    "version": 2
   },
   "file_extension": ".py",
   "mimetype": "text/x-python",
   "name": "python",
   "nbconvert_exporter": "python",
   "pygments_lexer": "ipython2",
   "version": "2.7.14"
  }
 },
 "nbformat": 4,
 "nbformat_minor": 2
}
